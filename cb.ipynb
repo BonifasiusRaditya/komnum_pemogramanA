{
 "cells": [
  {
   "cell_type": "markdown",
   "metadata": {},
   "source": [
    "# Curve Fitting (Regression & Interpolation) and Data Visualization\n",
    "\n",
    "Skeleton code untuk melakukan fungsi curve fitting dan visualisasi data dengan input CSV."
   ]
  },
  {
   "cell_type": "code",
   "execution_count": null,
   "metadata": {},
   "source": [
    "# Import library yang diperlukan\n",
    "import numpy as np\n",
    "import pandas as pd\n",
    "import matplotlib.pyplot as plt\n",
    "from scipy import interpolate\n",
    "from sklearn.linear_model import LinearRegression\n",
    "from sklearn.preprocessing import PolynomialFeatures\n",
    "from sklearn.metrics import r2_score"
   ]
  },
  {
   "cell_type": "markdown",
   "metadata": {},
   "source": [
    "## 1. Fungsi untuk Membaca Data CSV"
   ]
  },
  {
   "cell_type": "code",
   "execution_count": null,
   "metadata": {},
   "source": [
    "def load_data(file_path):\n",
    "    \"\"\"\n",
    "    Membaca data dari file CSV\n",
    "    \n",
    "    Parameters:\n",
    "    file_path (str): Path ke file CSV\n",
    "    \n",
    "    Returns:\n",
    "    pd.DataFrame: Data yang dibaca dari CSV\n",
    "    \"\"\"\n",
    "    try:\n",
    "        df = pd.read_csv(file_path)\n",
    "        return df\n",
    "    except Exception as e:\n",
    "        print(f\"Error membaca file: {e}\")\n",
    "        return None\n",
    "\n",
    "# Contoh penggunaan\n",
    "# df = load_data('data.csv')\n",
    "# display(df.head())"
   ]
  },
  {
   "cell_type": "markdown",
   "metadata": {},
   "source": [
    "## 2. Fungsi untuk Curve Fitting - Regresi Linear"
   ]
  },
  {
   "cell_type": "code",
   "execution_count": null,
   "metadata": {},
   "source": [
    "def linear_regression(x, y):\n",
    "    \"\"\"\n",
    "    Melakukan regresi linear\n",
    "    \n",
    "    Parameters:\n",
    "    x (array): Data independen\n",
    "    y (array): Data dependen\n",
    "    \n",
    "    Returns:\n",
    "    tuple: (model, y_pred, r2)\n",
    "    \"\"\"\n",
    "    x = np.array(x).reshape(-1, 1)\n",
    "    model = LinearRegression()\n",
    "    model.fit(x, y)\n",
    "    \n",
    "    y_pred = model.predict(x)\n",
    "    r2 = r2_score(y, y_pred)\n",
    "    \n",
    "    print(f\"Koefisien: {model.coef_[0]:.4f}\")\n",
    "    print(f\"Intercept: {model.intercept_:.4f}\")\n",
    "    print(f\"R²: {r2:.4f}\")\n",
    "    \n",
    "    return model, y_pred, r2"
   ]
  },
  {
   "cell_type": "markdown",
   "metadata": {},
   "source": [
    "## 3. Fungsi untuk Curve Fitting - Regresi Polinomial"
   ]
  },
  {
   "cell_type": "code",
   "execution_count": null,
   "metadata": {},
   "source": [
    "def polynomial_regression(x, y, degree=2):\n",
    "    \"\"\"\n",
    "    Melakukan regresi polinomial\n",
    "    \n",
    "    Parameters:\n",
    "    x (array): Data independen\n",
    "    y (array): Data dependen\n",
    "    degree (int): Derajat polinomial\n",
    "    \n",
    "    Returns:\n",
    "    tuple: (model, poly_features, y_pred, r2)\n",
    "    \"\"\"\n",
    "    x = np.array(x).reshape(-1, 1)\n",
    "    \n",
    "    # Transformasi fitur polinomial\n",
    "    poly_features = PolynomialFeatures(degree=degree)\n",
    "    x_poly = poly_features.fit_transform(x)\n",
    "    \n",
    "    # Fit model\n",
    "    model = LinearRegression()\n",
    "    model.fit(x_poly, y)\n",
    "    \n",
    "    # Prediksi\n",
    "    y_pred = model.predict(x_poly)\n",
    "    r2 = r2_score(y, y_pred)\n",
    "    \n",
    "    print(f\"Koefisien: {model.coef_}\")\n",
    "    print(f\"Intercept: {model.intercept_:.4f}\")\n",
    "    print(f\"R²: {r2:.4f}\")\n",
    "    \n",
    "    return model, poly_features, y_pred, r2"
   ]
  },
  {
   "cell_type": "markdown",
   "metadata": {},
   "source": [
    "## 4. Fungsi untuk Interpolasi"
   ]
  },
  {
   "cell_type": "code",
   "execution_count": null,
   "metadata": {},
   "source": [
    "def perform_interpolation(x, y, kind='linear', num_points=100):\n",
    "    \"\"\"\n",
    "    Melakukan interpolasi data\n",
    "    \n",
    "    Parameters:\n",
    "    x (array): Data independen\n",
    "    y (array): Data dependen\n",
    "    kind (str): Jenis interpolasi ('linear', 'cubic', etc.)\n",
    "    num_points (int): Jumlah titik untuk interpolasi\n",
    "    \n",
    "    Returns:\n",
    "    tuple: (x_new, y_new, f)\n",
    "    \"\"\"\n",
    "    # Membuat fungsi interpolasi\n",
    "    f = interpolate.interp1d(x, y, kind=kind, fill_value=\"extrapolate\")\n",
    "    \n",
    "    # Membuat titik-titik baru untuk interpolasi\n",
    "    x_new = np.linspace(min(x), max(x), num_points)\n",
    "    y_new = f(x_new)\n",
    "    \n",
    "    return x_new, y_new, f"
   ]
  },
  {
   "cell_type": "markdown",
   "metadata": {},
   "source": [
    "## 5. Fungsi untuk Visualisasi Data"
   ]
  },
  {
   "cell_type": "code",
   "execution_count": null,
   "metadata": {},
   "source": [
    "def plot_data_with_fit(x, y, x_fit=None, y_fit=None, title=\"Data dan Curve Fitting\", \n",
    "                       xlabel=\"X\", ylabel=\"Y\", scatter_label=\"Data Asli\", line_label=\"Fitted Curve\"):\n",
    "    \"\"\"\n",
    "    Memvisualisasikan data dan kurva hasil fitting\n",
    "    \n",
    "    Parameters:\n",
    "    x (array): Data independen asli\n",
    "    y (array): Data dependen asli\n",
    "    x_fit (array): Data independen hasil fitting/interpolasi\n",
    "    y_fit (array): Data dependen hasil fitting/interpolasi\n",
    "    title, xlabel, ylabel (str): Label untuk plot\n",
    "    scatter_label, line_label (str): Label untuk legenda\n",
    "    \"\"\"\n",
    "    plt.figure(figsize=(10, 6))\n",
    "    \n",
    "    # Plot data asli\n",
    "    plt.scatter(x, y, color='blue', alpha=0.6, label=scatter_label)\n",
    "    \n",
    "    # Plot hasil fitting jika tersedia\n",
    "    if x_fit is not None and y_fit is not None:\n",
    "        plt.plot(x_fit, y_fit, color='red', linewidth=2, label=line_label)\n",
    "    \n",
    "    plt.title(title)\n",
    "    plt.xlabel(xlabel)\n",
    "    plt.ylabel(ylabel)\n",
    "    plt.grid(True, alpha=0.3)\n",
    "    plt.legend()\n",
    "    plt.tight_layout()\n",
    "    plt.show()"
   ]
  },
  {
   "cell_type": "markdown",
   "metadata": {},
   "source": [
    "## 6. Fungsi untuk Menampilkan Statistik Data"
   ]
  },
  {
   "cell_type": "code",
   "execution_count": null,
   "metadata": {},
   "source": [
    "def display_statistics(data):\n",
    "    \"\"\"\n",
    "    Menampilkan statistik deskriptif dari data\n",
    "    \n",
    "    Parameters:\n",
    "    data (pd.DataFrame): Data yang akan dianalisis\n",
    "    \"\"\"\n",
    "    print(\"\\nStatistik Deskriptif:\")\n",
    "    print(data.describe())\n",
    "    \n",
    "    # Cek missing values\n",
    "    missing = data.isnull().sum()\n",
    "    if missing.sum() > 0:\n",
    "        print(\"\\nMissing Values:\")\n",
    "        print(missing[missing > 0])"
   ]
  },
  {
   "cell_type": "markdown",
   "metadata": {},
   "source": [
    "## 7. Demo Penggunaan"
   ]
  },
  {
   "cell_type": "code",
   "execution_count": null,
   "metadata": {},
   "source": [
    "# Load data contoh atau file CSV\n",
    "# Jika tidak ada file, gunakan data contoh\n",
    "try:\n",
    "    df = load_data('data.csv')\n",
    "except:\n",
    "    print(\"Menggunakan data contoh...\")\n",
    "    # Buat data contoh\n",
    "    np.random.seed(42)\n",
    "    x = np.linspace(0, 10, 20)\n",
    "    y = 2*x + 1 + np.random.normal(0, 1, 20)  # y = 2x + 1 + noise\n",
    "    df = pd.DataFrame({'x': x, 'y': y})\n",
    "    \n",
    "# Tampilkan beberapa baris data\n",
    "print(\"Data:\")\n",
    "display(df.head())\n",
    "\n",
    "# Analisis statistik\n",
    "display_statistics(df)\n",
    "\n",
    "# Ambil kolom untuk analisis\n",
    "x = df['x'].values\n",
    "y = df['y'].values\n",
    "\n",
    "# Plot data asli\n",
    "plot_data_with_fit(x, y, title=\"Data Asli\", scatter_label=\"Data\")\n",
    "\n",
    "# Regresi linear\n",
    "print(\"\\nRegresi Linear:\")\n",
    "model_linear, y_pred_linear, r2_linear = linear_regression(x, y)\n",
    "plot_data_with_fit(x, y, x, y_pred_linear, title=\"Regresi Linear\", line_label=\"Regresi Linear\")\n",
    "\n",
    "# Regresi polinomial\n",
    "print(\"\\nRegresi Polinomial (degree=2):\")\n",
    "model_poly, poly_features, y_pred_poly, r2_poly = polynomial_regression(x, y, degree=2)\n",
    "plot_data_with_fit(x, y, x, y_pred_poly, title=\"Regresi Polinomial\", line_label=\"Regresi Polinomial\")\n",
    "\n",
    "# Interpolasi\n",
    "print(\"\\nInterpolasi:\")\n",
    "x_interp, y_interp, interp_func = perform_interpolation(x, y, kind='cubic')\n",
    "plot_data_with_fit(x, y, x_interp, y_interp, title=\"Interpolasi Cubic\", line_label=\"Interpolasi\")"
   ]
  },
  {
   "cell_type": "markdown",
   "metadata": {},
   "source": [
    "## 8. Fungsi untuk Menganalisis Data CSV Secara Keseluruhan"
   ]
  },
  {
   "cell_type": "code",
   "execution_count": null,
   "metadata": {},
   "source": [
    "def analyze_csv_data(file_path, x_col, y_col, polynomial_degree=2, interpolation_kind='cubic'):\n",
    "    \"\"\"\n",
    "    Fungsi untuk menganalisis data CSV secara lengkap\n",
    "    \n",
    "    Parameters:\n",
    "    file_path (str): Path ke file CSV\n",
    "    x_col (str): Nama kolom untuk variabel independen\n",
    "    y_col (str): Nama kolom untuk variabel dependen\n",
    "    polynomial_degree (int): Derajat polinomial untuk regresi\n",
    "    interpolation_kind (str): Jenis interpolasi\n",
    "    \"\"\"\n",
    "    # Load data\n",
    "    df = load_data(file_path)\n",
    "    if df is None:\n",
    "        return\n",
    "    \n",
    "    # Cek kolom\n",
    "    if x_col not in df.columns or y_col not in df.columns:\n",
    "        print(f\"Error: Kolom {x_col} atau {y_col} tidak ditemukan.\")\n",
    "        print(f\"Kolom yang tersedia: {df.columns.tolist()}\")\n",
    "        return\n",
    "    \n",
    "    # Display statistik\n",
    "    display_statistics(df[[x_col, y_col]])\n",
    "    \n",
    "    # Ekstrak data\n",
    "    x = df[x_col].values\n",
    "    y = df[y_col].values\n",
    "    \n",
    "    # Plot data asli\n",
    "    plot_data_with_fit(x, y, title=f\"Data {x_col} vs {y_col}\", \n",
    "                       xlabel=x_col, ylabel=y_col, scatter_label=\"Data\")\n",
    "    \n",
    "    # Regresi linear\n",
    "    print(\"\\nRegresi Linear:\")\n",
    "    model_linear, y_pred_linear, r2_linear = linear_regression(x, y)\n",
    "    plot_data_with_fit(x, y, x, y_pred_linear, title=f\"Regresi Linear: {x_col} vs {y_col}\", \n",
    "                      xlabel=x_col, ylabel=y_col, line_label=\"Regresi Linear\")\n",
    "    \n",
    "    # Regresi polinomial\n",
    "    print(f\"\\nRegresi Polinomial (degree={polynomial_degree}):\")\n",
    "    model_poly, poly_features, y_pred_poly, r2_poly = polynomial_regression(x, y, degree=polynomial_degree)\n",
    "    plot_data_with_fit(x, y, x, y_pred_poly, title=f\"Regresi Polinomial: {x_col} vs {y_col}\", \n",
    "                      xlabel=x_col, ylabel=y_col, line_label=\"Regresi Polinomial\")\n",
    "    \n",
    "    # Interpolasi\n",
    "    print(f\"\\nInterpolasi ({interpolation_kind}):\")\n",
    "    x_interp, y_interp, interp_func = perform_interpolation(x, y, kind=interpolation_kind)\n",
    "    plot_data_with_fit(x, y, x_interp, y_interp, title=f\"Interpolasi {interpolation_kind}: {x_col} vs {y_col}\", \n",
    "                      xlabel=x_col, ylabel=y_col, line_label=\"Interpolasi\")\n",
    "    \n",
    "    # Bandingkan hasil\n",
    "    print(\"\\nPerbandingan R² dari metode fitting:\")\n",
    "    print(f\"Linear Regression: {r2_linear:.4f}\")\n",
    "    print(f\"Polynomial Regression (degree={polynomial_degree}): {r2_poly:.4f}\")\n",
    "    \n",
    "    return {\n",
    "        'model_linear': model_linear,\n",
    "        'model_poly': model_poly,\n",
    "        'interp_func': interp_func,\n",
    "        'r2_linear': r2_linear,\n",
    "        'r2_poly': r2_poly\n",
    "    }\n",
    "\n",
    "# Contoh penggunaan\n",
    "# results = analyze_csv_data('data.csv', 'x_column', 'y_column', polynomial_degree=3)"
   ]
  }
 ],
 "metadata": {
  "kernelspec": {
   "display_name": "Python 3",
   "language": "python",
   "name": "python3"
  },
  "language_info": {
   "codemirror_mode": {
    "name": "ipython",
    "version": 3
   },
   "file_extension": ".py",
   "mimetype": "text/x-python",
   "name": "python",
   "nbconvert_exporter": "python",
   "pygments_lexer": "ipython3",
   "version": "3.8.10"
  }
 },
 "nbformat": 4,
 "nbformat_minor": 4
}